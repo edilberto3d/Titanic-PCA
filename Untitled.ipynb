{
 "cells": [
  {
   "cell_type": "code",
   "execution_count": 104,
   "id": "7694a526",
   "metadata": {},
   "outputs": [],
   "source": [
    "import pandas as pd\n",
    "import pandas as pd\n",
    "import numpy as np\n",
    "from sklearn.preprocessing import OrdinalEncoder, RobustScaler\n",
    "from sklearn.decomposition import PCA\n",
    "from sklearn.linear_model import LinearRegression\n",
    "from sklearn.model_selection import cross_val_score, StratifiedKFold, train_test_split\n",
    "from sklearn.tree import DecisionTreeClassifier\n",
    "from sklearn.metrics import accuracy_score\n",
    "import joblib\n",
    "import warnings\n",
    "warnings.filterwarnings('ignore')\n",
    "# Importar bibliotecas necesarias\n",
    "from sklearn.ensemble import RandomForestClassifier, RandomForestRegressor\n",
    "\n",
    "\n",
    "df = pd.read_csv(\"titanic.csv\")\n",
    "\n"
   ]
  },
  {
   "cell_type": "markdown",
   "id": "1314c930",
   "metadata": {},
   "source": [
    "--------------------PREPARAMOS LOS DATOS-----------------------------"
   ]
  },
  {
   "cell_type": "code",
   "execution_count": 105,
   "id": "5bbe9a6a",
   "metadata": {},
   "outputs": [
    {
     "name": "stdout",
     "output_type": "stream",
     "text": [
      "<class 'pandas.core.frame.DataFrame'>\n",
      "RangeIndex: 891 entries, 0 to 890\n",
      "Data columns (total 12 columns):\n",
      " #   Column       Non-Null Count  Dtype  \n",
      "---  ------       --------------  -----  \n",
      " 0   PassengerId  891 non-null    int64  \n",
      " 1   Survived     891 non-null    int64  \n",
      " 2   Pclass       891 non-null    int64  \n",
      " 3   Name         891 non-null    object \n",
      " 4   Sex          891 non-null    object \n",
      " 5   Age          714 non-null    float64\n",
      " 6   SibSp        891 non-null    int64  \n",
      " 7   Parch        891 non-null    int64  \n",
      " 8   Ticket       891 non-null    object \n",
      " 9   Fare         891 non-null    float64\n",
      " 10  Cabin        204 non-null    object \n",
      " 11  Embarked     889 non-null    object \n",
      "dtypes: float64(2), int64(5), object(5)\n",
      "memory usage: 83.7+ KB\n"
     ]
    }
   ],
   "source": [
    "df.info()"
   ]
  },
  {
   "cell_type": "markdown",
   "id": "609b9335",
   "metadata": {},
   "source": [
    "----TRATAMOS NULLS"
   ]
  },
  {
   "cell_type": "code",
   "execution_count": 106,
   "id": "12a06811",
   "metadata": {},
   "outputs": [
    {
     "data": {
      "text/plain": [
       "PassengerId      0\n",
       "Survived         0\n",
       "Pclass           0\n",
       "Name             0\n",
       "Sex              0\n",
       "Age            177\n",
       "SibSp            0\n",
       "Parch            0\n",
       "Ticket           0\n",
       "Fare             0\n",
       "Cabin          687\n",
       "Embarked         2\n",
       "dtype: int64"
      ]
     },
     "execution_count": 106,
     "metadata": {},
     "output_type": "execute_result"
    }
   ],
   "source": [
    "df.isnull().sum()"
   ]
  },
  {
   "cell_type": "code",
   "execution_count": 107,
   "id": "8ca47eb8",
   "metadata": {},
   "outputs": [
    {
     "name": "stdout",
     "output_type": "stream",
     "text": [
      "<class 'pandas.core.frame.DataFrame'>\n",
      "RangeIndex: 891 entries, 0 to 890\n",
      "Data columns (total 12 columns):\n",
      " #   Column       Non-Null Count  Dtype  \n",
      "---  ------       --------------  -----  \n",
      " 0   PassengerId  891 non-null    int64  \n",
      " 1   Survived     891 non-null    int64  \n",
      " 2   Pclass       891 non-null    int64  \n",
      " 3   Name         891 non-null    object \n",
      " 4   Sex          891 non-null    object \n",
      " 5   Age          714 non-null    float64\n",
      " 6   SibSp        891 non-null    int64  \n",
      " 7   Parch        891 non-null    int64  \n",
      " 8   Ticket       891 non-null    object \n",
      " 9   Fare         891 non-null    float64\n",
      " 10  Cabin        204 non-null    object \n",
      " 11  Embarked     889 non-null    object \n",
      "dtypes: float64(2), int64(5), object(5)\n",
      "memory usage: 83.7+ KB\n"
     ]
    }
   ],
   "source": [
    "#Tratamos variables nulls de edad\n",
    "df.info()"
   ]
  },
  {
   "cell_type": "markdown",
   "id": "0dbe25f0",
   "metadata": {},
   "source": [
    "----------------------PREDECIMOS EDAD ----------------------"
   ]
  },
  {
   "cell_type": "code",
   "execution_count": 108,
   "id": "9d3611d4",
   "metadata": {},
   "outputs": [],
   "source": [
    "from sklearn.linear_model import LinearRegression\n",
    "\n",
    "\n",
    "# Imputación de AGE con regresión lineal\n",
    "train = df[df['Age'].notna()]\n",
    "test = df[df['Age'].isna()]\n",
    "\n",
    "cols = ['Survived', 'Pclass','SibSp','Parch', 'Fare']\n",
    "x_train = train[cols]\n",
    "y_train = train['Age']\n",
    "x_test = test[cols]\n",
    "\n",
    "reg = LinearRegression()\n",
    "reg.fit(x_train, y_train)\n",
    "y_pred = reg.predict(x_test)\n",
    "\n",
    "df.loc[df['Age'].isna(), 'Age'] = y_pred\n",
    "\n",
    "# Imputar Embarked con moda\n",
    "df['Embarked'] = df['Embarked'].fillna(df['Embarked'].mode()[0])\n",
    "\n",
    "# Imputar Cabin con 'Desconocido'\n",
    "df['Cabin'] = df['Cabin'].fillna('Desconocido')"
   ]
  },
  {
   "cell_type": "code",
   "execution_count": 109,
   "id": "c9432d51",
   "metadata": {},
   "outputs": [
    {
     "name": "stdout",
     "output_type": "stream",
     "text": [
      "PassengerId    0\n",
      "Survived       0\n",
      "Pclass         0\n",
      "Name           0\n",
      "Sex            0\n",
      "Age            0\n",
      "SibSp          0\n",
      "Parch          0\n",
      "Ticket         0\n",
      "Fare           0\n",
      "Cabin          0\n",
      "Embarked       0\n",
      "dtype: int64\n"
     ]
    }
   ],
   "source": [
    "print(df.isnull().sum())"
   ]
  },
  {
   "cell_type": "markdown",
   "id": "65ad58d2",
   "metadata": {},
   "source": [
    "------------PKL DE CATEGORIAS----------"
   ]
  },
  {
   "cell_type": "code",
   "execution_count": 110,
   "id": "cc32b8aa",
   "metadata": {},
   "outputs": [
    {
     "data": {
      "text/plain": [
       "['categoria_opciones.pkl']"
      ]
     },
     "execution_count": 110,
     "metadata": {},
     "output_type": "execute_result"
    }
   ],
   "source": [
    "category_options = {\n",
    "    'Sex': list(df['Sex'].unique()),  \n",
    "    'Embarked': list(df['Embarked'].unique()), \n",
    "    'Ticket': list(df['Ticket'].unique()), \n",
    "    'Cabin': list(df['Cabin'].unique())\n",
    "}\n",
    "joblib.dump(category_options, 'categoria_opciones.pkl')"
   ]
  },
  {
   "cell_type": "markdown",
   "id": "4a27e0c3",
   "metadata": {},
   "source": [
    "------------------------ESCALAMOS LSO DATOS ---------------"
   ]
  },
  {
   "cell_type": "code",
   "execution_count": 111,
   "id": "c2f1edde",
   "metadata": {},
   "outputs": [
    {
     "data": {
      "text/html": [
       "<div>\n",
       "<style scoped>\n",
       "    .dataframe tbody tr th:only-of-type {\n",
       "        vertical-align: middle;\n",
       "    }\n",
       "\n",
       "    .dataframe tbody tr th {\n",
       "        vertical-align: top;\n",
       "    }\n",
       "\n",
       "    .dataframe thead th {\n",
       "        text-align: right;\n",
       "    }\n",
       "</style>\n",
       "<table border=\"1\" class=\"dataframe\">\n",
       "  <thead>\n",
       "    <tr style=\"text-align: right;\">\n",
       "      <th></th>\n",
       "      <th>PassengerId</th>\n",
       "      <th>Survived</th>\n",
       "      <th>Pclass</th>\n",
       "      <th>Name</th>\n",
       "      <th>Sex</th>\n",
       "      <th>Age</th>\n",
       "      <th>SibSp</th>\n",
       "      <th>Parch</th>\n",
       "      <th>Ticket</th>\n",
       "      <th>Fare</th>\n",
       "      <th>Cabin</th>\n",
       "      <th>Embarked</th>\n",
       "    </tr>\n",
       "  </thead>\n",
       "  <tbody>\n",
       "    <tr>\n",
       "      <th>0</th>\n",
       "      <td>1</td>\n",
       "      <td>0</td>\n",
       "      <td>3</td>\n",
       "      <td>Braund, Mr. Owen Harris</td>\n",
       "      <td>1.0</td>\n",
       "      <td>22.0</td>\n",
       "      <td>1</td>\n",
       "      <td>0</td>\n",
       "      <td>523.0</td>\n",
       "      <td>7.2500</td>\n",
       "      <td>115.0</td>\n",
       "      <td>2.0</td>\n",
       "    </tr>\n",
       "    <tr>\n",
       "      <th>1</th>\n",
       "      <td>2</td>\n",
       "      <td>1</td>\n",
       "      <td>1</td>\n",
       "      <td>Cumings, Mrs. John Bradley (Florence Briggs Th...</td>\n",
       "      <td>0.0</td>\n",
       "      <td>38.0</td>\n",
       "      <td>1</td>\n",
       "      <td>0</td>\n",
       "      <td>596.0</td>\n",
       "      <td>71.2833</td>\n",
       "      <td>81.0</td>\n",
       "      <td>0.0</td>\n",
       "    </tr>\n",
       "    <tr>\n",
       "      <th>2</th>\n",
       "      <td>3</td>\n",
       "      <td>1</td>\n",
       "      <td>3</td>\n",
       "      <td>Heikkinen, Miss. Laina</td>\n",
       "      <td>0.0</td>\n",
       "      <td>26.0</td>\n",
       "      <td>0</td>\n",
       "      <td>0</td>\n",
       "      <td>669.0</td>\n",
       "      <td>7.9250</td>\n",
       "      <td>115.0</td>\n",
       "      <td>2.0</td>\n",
       "    </tr>\n",
       "    <tr>\n",
       "      <th>3</th>\n",
       "      <td>4</td>\n",
       "      <td>1</td>\n",
       "      <td>1</td>\n",
       "      <td>Futrelle, Mrs. Jacques Heath (Lily May Peel)</td>\n",
       "      <td>0.0</td>\n",
       "      <td>35.0</td>\n",
       "      <td>1</td>\n",
       "      <td>0</td>\n",
       "      <td>49.0</td>\n",
       "      <td>53.1000</td>\n",
       "      <td>55.0</td>\n",
       "      <td>2.0</td>\n",
       "    </tr>\n",
       "    <tr>\n",
       "      <th>4</th>\n",
       "      <td>5</td>\n",
       "      <td>0</td>\n",
       "      <td>3</td>\n",
       "      <td>Allen, Mr. William Henry</td>\n",
       "      <td>1.0</td>\n",
       "      <td>35.0</td>\n",
       "      <td>0</td>\n",
       "      <td>0</td>\n",
       "      <td>472.0</td>\n",
       "      <td>8.0500</td>\n",
       "      <td>115.0</td>\n",
       "      <td>2.0</td>\n",
       "    </tr>\n",
       "  </tbody>\n",
       "</table>\n",
       "</div>"
      ],
      "text/plain": [
       "   PassengerId  Survived  Pclass  \\\n",
       "0            1         0       3   \n",
       "1            2         1       1   \n",
       "2            3         1       3   \n",
       "3            4         1       1   \n",
       "4            5         0       3   \n",
       "\n",
       "                                                Name  Sex   Age  SibSp  Parch  \\\n",
       "0                            Braund, Mr. Owen Harris  1.0  22.0      1      0   \n",
       "1  Cumings, Mrs. John Bradley (Florence Briggs Th...  0.0  38.0      1      0   \n",
       "2                             Heikkinen, Miss. Laina  0.0  26.0      0      0   \n",
       "3       Futrelle, Mrs. Jacques Heath (Lily May Peel)  0.0  35.0      1      0   \n",
       "4                           Allen, Mr. William Henry  1.0  35.0      0      0   \n",
       "\n",
       "   Ticket     Fare  Cabin  Embarked  \n",
       "0   523.0   7.2500  115.0       2.0  \n",
       "1   596.0  71.2833   81.0       0.0  \n",
       "2   669.0   7.9250  115.0       2.0  \n",
       "3    49.0  53.1000   55.0       2.0  \n",
       "4   472.0   8.0500  115.0       2.0  "
      ]
     },
     "execution_count": 111,
     "metadata": {},
     "output_type": "execute_result"
    }
   ],
   "source": [
    "# Escalar todas las características con RobustScaler (no guardado)\n",
    "from sklearn.preprocessing import OrdinalEncoder\n",
    "\n",
    "# conversion de categoricos\n",
    "cat_cols = ['Sex', 'Embarked', 'Ticket','Cabin'] \n",
    "\n",
    "encoder = OrdinalEncoder()\n",
    "df[cat_cols] = encoder.fit_transform(df[cat_cols])\n",
    "df.head()"
   ]
  },
  {
   "cell_type": "markdown",
   "id": "c494f9aa",
   "metadata": {},
   "source": [
    "-----------------------PKL TEXTO CONVERTIDO A NUMERICO------------"
   ]
  },
  {
   "cell_type": "code",
   "execution_count": 112,
   "id": "000dc67c",
   "metadata": {},
   "outputs": [
    {
     "data": {
      "text/plain": [
       "['encoder.pkl']"
      ]
     },
     "execution_count": 112,
     "metadata": {},
     "output_type": "execute_result"
    }
   ],
   "source": [
    "joblib.dump(encoder, 'encoder.pkl')"
   ]
  },
  {
   "cell_type": "markdown",
   "id": "ad380ce9",
   "metadata": {},
   "source": [
    "---------------------SELECCIONAMOS VARIABLES----------------"
   ]
  },
  {
   "cell_type": "markdown",
   "id": "b1727b94",
   "metadata": {},
   "source": [
    "-----"
   ]
  },
  {
   "cell_type": "code",
   "execution_count": 113,
   "id": "1978d7a7",
   "metadata": {},
   "outputs": [],
   "source": [
    "# Preparar X e y\n",
    "x = df.drop(['Survived', 'Name', 'PassengerId',], axis=1)\n",
    "y = df['Survived']"
   ]
  },
  {
   "cell_type": "code",
   "execution_count": 114,
   "id": "7ccf6c56",
   "metadata": {},
   "outputs": [
    {
     "name": "stdout",
     "output_type": "stream",
     "text": [
      "Características seleccionadas por RFE: ['Pclass', 'Sex', 'Age', 'SibSp', 'Parch', 'Ticket', 'Fare', 'Cabin', 'Embarked']\n"
     ]
    }
   ],
   "source": [
    "from sklearn.feature_selection import RFE\n",
    "from sklearn.linear_model import LinearRegression\n",
    "\n",
    "model = LinearRegression()\n",
    "rfe = RFE(estimator=model, n_features_to_select=9)\n",
    "x_rfe = rfe.fit_transform(x, y)\n",
    "selected_features = x.columns[rfe.support_].tolist()\n",
    "\n",
    "x_selected = x[selected_features]\n",
    "print(\"Características seleccionadas por RFE:\", selected_features)"
   ]
  },
  {
   "cell_type": "markdown",
   "id": "4a527dc4",
   "metadata": {},
   "source": [
    "----------------------STANDARIZAMOS----------------"
   ]
  },
  {
   "cell_type": "code",
   "execution_count": 115,
   "id": "c3e66ce5",
   "metadata": {},
   "outputs": [],
   "source": [
    "from sklearn.preprocessing import StandardScaler\n",
    "scaler = StandardScaler()\n",
    "x_scaled = scaler.fit_transform(x_selected)\n",
    "x_scaled_df = pd.DataFrame(x_scaled, columns=selected_features, index=x.index)"
   ]
  },
  {
   "cell_type": "code",
   "execution_count": 116,
   "id": "2786541d",
   "metadata": {},
   "outputs": [
    {
     "data": {
      "text/html": [
       "<div>\n",
       "<style scoped>\n",
       "    .dataframe tbody tr th:only-of-type {\n",
       "        vertical-align: middle;\n",
       "    }\n",
       "\n",
       "    .dataframe tbody tr th {\n",
       "        vertical-align: top;\n",
       "    }\n",
       "\n",
       "    .dataframe thead th {\n",
       "        text-align: right;\n",
       "    }\n",
       "</style>\n",
       "<table border=\"1\" class=\"dataframe\">\n",
       "  <thead>\n",
       "    <tr style=\"text-align: right;\">\n",
       "      <th></th>\n",
       "      <th>Sex</th>\n",
       "      <th>Ticket</th>\n",
       "      <th>Age</th>\n",
       "      <th>Fare</th>\n",
       "      <th>Pclass</th>\n",
       "      <th>SibSp</th>\n",
       "      <th>Title</th>\n",
       "      <th>FamilySize</th>\n",
       "    </tr>\n",
       "  </thead>\n",
       "  <tbody>\n",
       "    <tr>\n",
       "      <th>0</th>\n",
       "      <td>0.0</td>\n",
       "      <td>0.515235</td>\n",
       "      <td>-0.409929</td>\n",
       "      <td>-0.312011</td>\n",
       "      <td>0.0</td>\n",
       "      <td>1.0</td>\n",
       "      <td>0.0</td>\n",
       "      <td>1.0</td>\n",
       "    </tr>\n",
       "    <tr>\n",
       "      <th>1</th>\n",
       "      <td>-1.0</td>\n",
       "      <td>0.717452</td>\n",
       "      <td>0.605944</td>\n",
       "      <td>2.461242</td>\n",
       "      <td>-2.0</td>\n",
       "      <td>1.0</td>\n",
       "      <td>1.0</td>\n",
       "      <td>1.0</td>\n",
       "    </tr>\n",
       "    <tr>\n",
       "      <th>2</th>\n",
       "      <td>-1.0</td>\n",
       "      <td>0.919668</td>\n",
       "      <td>-0.155961</td>\n",
       "      <td>-0.282777</td>\n",
       "      <td>0.0</td>\n",
       "      <td>0.0</td>\n",
       "      <td>-1.0</td>\n",
       "      <td>0.0</td>\n",
       "    </tr>\n",
       "    <tr>\n",
       "      <th>3</th>\n",
       "      <td>-1.0</td>\n",
       "      <td>-0.797784</td>\n",
       "      <td>0.415468</td>\n",
       "      <td>1.673732</td>\n",
       "      <td>-2.0</td>\n",
       "      <td>1.0</td>\n",
       "      <td>1.0</td>\n",
       "      <td>1.0</td>\n",
       "    </tr>\n",
       "    <tr>\n",
       "      <th>4</th>\n",
       "      <td>0.0</td>\n",
       "      <td>0.373961</td>\n",
       "      <td>0.415468</td>\n",
       "      <td>-0.277363</td>\n",
       "      <td>0.0</td>\n",
       "      <td>0.0</td>\n",
       "      <td>0.0</td>\n",
       "      <td>0.0</td>\n",
       "    </tr>\n",
       "  </tbody>\n",
       "</table>\n",
       "</div>"
      ],
      "text/plain": [
       "   Sex    Ticket       Age      Fare  Pclass  SibSp  Title  FamilySize\n",
       "0  0.0  0.515235 -0.409929 -0.312011     0.0    1.0    0.0         1.0\n",
       "1 -1.0  0.717452  0.605944  2.461242    -2.0    1.0    1.0         1.0\n",
       "2 -1.0  0.919668 -0.155961 -0.282777     0.0    0.0   -1.0         0.0\n",
       "3 -1.0 -0.797784  0.415468  1.673732    -2.0    1.0    1.0         1.0\n",
       "4  0.0  0.373961  0.415468 -0.277363     0.0    0.0    0.0         0.0"
      ]
     },
     "execution_count": 116,
     "metadata": {},
     "output_type": "execute_result"
    }
   ],
   "source": [
    "# Definir características finales\n",
    "features = ['Sex', 'Ticket', 'Age', 'Fare', 'Pclass', 'SibSp', 'Title', 'FamilySize']\n",
    "X_selected = X_all_scaled[features].copy()\n",
    "X_selected.head()"
   ]
  },
  {
   "cell_type": "markdown",
   "id": "f0207ca7",
   "metadata": {},
   "source": [
    "--------------------PKL SCANDER---------"
   ]
  },
  {
   "cell_type": "code",
   "execution_count": 117,
   "id": "385fe36b",
   "metadata": {},
   "outputs": [
    {
     "data": {
      "text/plain": [
       "['datos_scaler.pkl']"
      ]
     },
     "execution_count": 117,
     "metadata": {},
     "output_type": "execute_result"
    }
   ],
   "source": [
    "joblib.dump(scaler, 'datos_scaler.pkl')"
   ]
  },
  {
   "cell_type": "markdown",
   "id": "267df085",
   "metadata": {},
   "source": [
    "--------------------------------------------APLICAMOS PCA-----------------------"
   ]
  },
  {
   "cell_type": "code",
   "execution_count": 118,
   "id": "9101ff02",
   "metadata": {},
   "outputs": [
    {
     "name": "stdout",
     "output_type": "stream",
     "text": [
      "<class 'pandas.core.frame.DataFrame'>\n",
      "RangeIndex: 891 entries, 0 to 890\n",
      "Data columns (total 9 columns):\n",
      " #   Column    Non-Null Count  Dtype  \n",
      "---  ------    --------------  -----  \n",
      " 0   PC1       891 non-null    float64\n",
      " 1   PC2       891 non-null    float64\n",
      " 2   PC3       891 non-null    float64\n",
      " 3   PC4       891 non-null    float64\n",
      " 4   PC5       891 non-null    float64\n",
      " 5   PC6       891 non-null    float64\n",
      " 6   PC7       891 non-null    float64\n",
      " 7   PC8       891 non-null    float64\n",
      " 8   Survived  891 non-null    int64  \n",
      "dtypes: float64(8), int64(1)\n",
      "memory usage: 62.8 KB\n"
     ]
    },
    {
     "data": {
      "text/html": [
       "<div>\n",
       "<style scoped>\n",
       "    .dataframe tbody tr th:only-of-type {\n",
       "        vertical-align: middle;\n",
       "    }\n",
       "\n",
       "    .dataframe tbody tr th {\n",
       "        vertical-align: top;\n",
       "    }\n",
       "\n",
       "    .dataframe thead th {\n",
       "        text-align: right;\n",
       "    }\n",
       "</style>\n",
       "<table border=\"1\" class=\"dataframe\">\n",
       "  <thead>\n",
       "    <tr style=\"text-align: right;\">\n",
       "      <th></th>\n",
       "      <th>PC1</th>\n",
       "      <th>PC2</th>\n",
       "      <th>PC3</th>\n",
       "      <th>PC4</th>\n",
       "      <th>PC5</th>\n",
       "      <th>PC6</th>\n",
       "      <th>PC7</th>\n",
       "      <th>PC8</th>\n",
       "      <th>Survived</th>\n",
       "    </tr>\n",
       "  </thead>\n",
       "  <tbody>\n",
       "    <tr>\n",
       "      <th>0</th>\n",
       "      <td>1.519204</td>\n",
       "      <td>-0.168116</td>\n",
       "      <td>-0.255512</td>\n",
       "      <td>0.842449</td>\n",
       "      <td>0.206460</td>\n",
       "      <td>-0.522383</td>\n",
       "      <td>-0.025251</td>\n",
       "      <td>-0.229685</td>\n",
       "      <td>0</td>\n",
       "    </tr>\n",
       "    <tr>\n",
       "      <th>1</th>\n",
       "      <td>-2.171925</td>\n",
       "      <td>0.653143</td>\n",
       "      <td>-2.116011</td>\n",
       "      <td>-0.333917</td>\n",
       "      <td>-0.610198</td>\n",
       "      <td>-0.367912</td>\n",
       "      <td>0.711483</td>\n",
       "      <td>-0.929617</td>\n",
       "      <td>1</td>\n",
       "    </tr>\n",
       "    <tr>\n",
       "      <th>2</th>\n",
       "      <td>1.247196</td>\n",
       "      <td>0.013408</td>\n",
       "      <td>-0.848637</td>\n",
       "      <td>-0.358810</td>\n",
       "      <td>-1.691770</td>\n",
       "      <td>-0.938314</td>\n",
       "      <td>-0.359254</td>\n",
       "      <td>-0.398621</td>\n",
       "      <td>1</td>\n",
       "    </tr>\n",
       "    <tr>\n",
       "      <th>3</th>\n",
       "      <td>-2.528821</td>\n",
       "      <td>0.320466</td>\n",
       "      <td>1.446992</td>\n",
       "      <td>-0.620061</td>\n",
       "      <td>-0.112601</td>\n",
       "      <td>-1.185626</td>\n",
       "      <td>-0.058811</td>\n",
       "      <td>-0.966258</td>\n",
       "      <td>1</td>\n",
       "    </tr>\n",
       "    <tr>\n",
       "      <th>4</th>\n",
       "      <td>1.065790</td>\n",
       "      <td>-1.074616</td>\n",
       "      <td>-0.151047</td>\n",
       "      <td>0.662309</td>\n",
       "      <td>-0.320651</td>\n",
       "      <td>0.030186</td>\n",
       "      <td>-0.173193</td>\n",
       "      <td>-0.064106</td>\n",
       "      <td>0</td>\n",
       "    </tr>\n",
       "  </tbody>\n",
       "</table>\n",
       "</div>"
      ],
      "text/plain": [
       "        PC1       PC2       PC3       PC4       PC5       PC6       PC7  \\\n",
       "0  1.519204 -0.168116 -0.255512  0.842449  0.206460 -0.522383 -0.025251   \n",
       "1 -2.171925  0.653143 -2.116011 -0.333917 -0.610198 -0.367912  0.711483   \n",
       "2  1.247196  0.013408 -0.848637 -0.358810 -1.691770 -0.938314 -0.359254   \n",
       "3 -2.528821  0.320466  1.446992 -0.620061 -0.112601 -1.185626 -0.058811   \n",
       "4  1.065790 -1.074616 -0.151047  0.662309 -0.320651  0.030186 -0.173193   \n",
       "\n",
       "        PC8  Survived  \n",
       "0 -0.229685         0  \n",
       "1 -0.929617         1  \n",
       "2 -0.398621         1  \n",
       "3 -0.966258         1  \n",
       "4 -0.064106         0  "
      ]
     },
     "execution_count": 118,
     "metadata": {},
     "output_type": "execute_result"
    }
   ],
   "source": [
    "# Aplicar PCA sobre las características seleccionadas\n",
    "from sklearn.decomposition import PCA\n",
    "import matplotlib.pyplot as plt\n",
    "import seaborn as sns\n",
    "\n",
    "# Aplicar PCA\n",
    "pca = PCA(n_components=8)\n",
    "principalComponents = pca.fit_transform(x_scaled_df) \n",
    "principalDf = pd.DataFrame(data=principalComponents, columns=['PC1', 'PC2', 'PC3', 'PC4', 'PC5', 'PC6', 'PC7', 'PC8'])\n",
    "principalDf = pd.concat([principalDf, df[['Survived']]], axis=1)\n",
    "principalDf.info()\n",
    "principalDf.head()"
   ]
  },
  {
   "cell_type": "markdown",
   "id": "4e4eeb1e",
   "metadata": {},
   "source": [
    "------------------PKL PCA----------"
   ]
  },
  {
   "cell_type": "code",
   "execution_count": 119,
   "id": "87e966e1",
   "metadata": {},
   "outputs": [
    {
     "name": "stdout",
     "output_type": "stream",
     "text": [
      "     Pclass       Sex       Age     SibSp     Parch    Ticket      Fare  \\\n",
      "0  0.565406  0.125979 -0.314383  0.095574 -0.002793  0.242195 -0.444571   \n",
      "1  0.011097 -0.352806 -0.408914  0.553790  0.549898  0.083466  0.297231   \n",
      "2 -0.127699  0.012162  0.066462  0.130520  0.185654 -0.640912 -0.182531   \n",
      "3 -0.081792  0.647746  0.184799  0.266084  0.092418  0.465407  0.270722   \n",
      "4  0.050243  0.575622 -0.416845  0.269910 -0.160366 -0.448233 -0.059990   \n",
      "5  0.101151  0.250862  0.472112 -0.080500  0.684114 -0.136520 -0.165735   \n",
      "6 -0.214229 -0.064965  0.345442  0.553384 -0.365067 -0.096830  0.131677   \n",
      "7 -0.105239  0.187208 -0.311053 -0.455598  0.099105 -0.148045  0.585380   \n",
      "\n",
      "      Cabin  Embarked  \n",
      "0  0.499303  0.225524  \n",
      "1 -0.037717 -0.048860  \n",
      "2 -0.006269  0.695341  \n",
      "3 -0.161193  0.379955  \n",
      "4 -0.172793 -0.399296  \n",
      "5  0.222547 -0.365816  \n",
      "6  0.590090 -0.126991  \n",
      "7  0.517098  0.088058  \n"
     ]
    }
   ],
   "source": [
    "# Obtener los loadings de los componentes principales\n",
    "loadings = pca.components_\n",
    "loadings_df = pd.DataFrame(loadings, columns=x_scaled_df.columns)\n",
    "print(loadings_df)"
   ]
  },
  {
   "cell_type": "code",
   "execution_count": 120,
   "id": "252365cd",
   "metadata": {},
   "outputs": [
    {
     "name": "stdout",
     "output_type": "stream",
     "text": [
      "Accuracy: 0.8603351955307262\n"
     ]
    }
   ],
   "source": [
    "from sklearn.model_selection import train_test_split\n",
    "from sklearn.ensemble import RandomForestClassifier\n",
    "# Dividir en conjunto de entrenamiento y conjunto de pruebas\n",
    "X_train, X_test, y_train, y_test = train_test_split(x_scaled, y, test_size=0.2, random_state=42)\n",
    "\n",
    "pca = PCA(n_components=8)\n",
    "X_train_pca = pca.fit_transform(X_train)\n",
    "X_test_pca = pca.transform(X_test)\n",
    "\n",
    "# Crear el clasificador\n",
    "clf = RandomForestClassifier( n_estimators=400, max_depth=25, min_samples_split=4, min_samples_leaf=2, max_features='sqrt', n_jobs=-1,random_state=42)\n",
    "clf.fit(X_train_pca, y_train)\n",
    "\n",
    "\n",
    "joblib.dump(clf, 'modelo_final_randomFores.pkl')\n",
    "\n",
    "# Evaluar el rendimiento del clasificador\n",
    "score = clf.score(X_test_pca, y_test)\n",
    "print(\"Accuracy:\", score)\n"
   ]
  },
  {
   "cell_type": "markdown",
   "id": "17a6c9fa",
   "metadata": {},
   "source": [
    "---------------------------CODIFICAMOS Y ESCALAMOS-----------------"
   ]
  },
  {
   "cell_type": "code",
   "execution_count": 121,
   "id": "c9884b4b",
   "metadata": {},
   "outputs": [
    {
     "name": "stdout",
     "output_type": "stream",
     "text": [
      "Varianza explicada por cada componente:\n",
      "[0.26551462 0.21746153 0.1161439  0.10338358 0.08882706 0.06606881\n",
      " 0.05657291 0.05488364]\n",
      "Varianza acumulada:\n",
      "[0.26551462 0.48297614 0.59912004 0.70250362 0.79133068 0.85739949\n",
      " 0.9139724  0.96885604]\n",
      "Se necesitan 8 componentes para capturar el 95% de la variabilidad.\n"
     ]
    }
   ],
   "source": [
    "# Varianza explicada por cada componente\n",
    "explained_variances = pca.explained_variance_ratio_\n",
    "\n",
    "# Varianza acumulada\n",
    "cumulative_variance = np.cumsum(explained_variances)\n",
    "\n",
    "print(\"Varianza explicada por cada componente:\")\n",
    "print(explained_variances)\n",
    "\n",
    "print(\"Varianza acumulada:\")\n",
    "print(cumulative_variance)\n",
    "\n",
    "# Verificar cuántas componentes capturan el 95% de la varianza\n",
    "num_components_for_95_variance = np.argmax(cumulative_variance >= 0.95) + 1\n",
    "print(f\"Se necesitan {num_components_for_95_variance} componentes para capturar el 95% de la variabilidad.\")\n"
   ]
  },
  {
   "cell_type": "code",
   "execution_count": 122,
   "id": "cc21317a",
   "metadata": {},
   "outputs": [
    {
     "data": {
      "text/plain": [
       "array([0.26551462, 0.21746153, 0.1161439 , 0.10338358, 0.08882706,\n",
       "       0.06606881, 0.05657291, 0.05488364])"
      ]
     },
     "execution_count": 122,
     "metadata": {},
     "output_type": "execute_result"
    }
   ],
   "source": [
    "explained_variances\n"
   ]
  },
  {
   "cell_type": "code",
   "execution_count": null,
   "id": "47727dff",
   "metadata": {},
   "outputs": [],
   "source": []
  },
  {
   "cell_type": "code",
   "execution_count": null,
   "id": "b7fa1c57",
   "metadata": {},
   "outputs": [],
   "source": []
  }
 ],
 "metadata": {
  "kernelspec": {
   "display_name": "Python 3",
   "language": "python",
   "name": "python3"
  },
  "language_info": {
   "codemirror_mode": {
    "name": "ipython",
    "version": 3
   },
   "file_extension": ".py",
   "mimetype": "text/x-python",
   "name": "python",
   "nbconvert_exporter": "python",
   "pygments_lexer": "ipython3",
   "version": "3.13.3"
  }
 },
 "nbformat": 4,
 "nbformat_minor": 5
}
